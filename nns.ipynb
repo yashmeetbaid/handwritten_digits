{
 "cells": [
  {
   "cell_type": "markdown",
   "id": "a9e05df7-1d03-4254-aeee-bd979f11ff5e",
   "metadata": {},
   "source": [
    "__Data Preprocessing__"
   ]
  },
  {
   "cell_type": "code",
   "execution_count": null,
   "id": "30708ca3-721e-4980-bb22-6aa2d7c69852",
   "metadata": {},
   "outputs": [],
   "source": [
    "import numpy as np\n",
    "import pandas as pd\n",
    "from matplotlib import pyplot as plt\n",
    "\n",
    "data = pd.read_csv('train.csv')\n",
    "data.head()\n",
    "\n",
    "data = np.array(data) #converting dataframes to numpy array for easier manipulation\n",
    "\n",
    "# n-> number of features  m-> number of samples\n",
    "m, n = data.shape\n",
    "print(f\"{n} {m}\")\n",
    "\n",
    "np.random.shuffle(data)\n",
    "\n",
    "# Create a test set with the first 1000 samples\n",
    "data_test = data[0:1000].T  # Transpose so that each column is a sample\n",
    "Y_test = data_test[0]  # The first row is the label (Y values)\n",
    "X_test = data_test[1:n]  # The rest are the feature values (X values)\n",
    "X_test = X_test / 255.  # Normalize the pixel values (assuming pixel data is between 0-255)\n",
    "\n",
    "# Create the training set with the remaining samples\n",
    "data_train = data[1000:m].T  # Transpose so that each column is a sample\n",
    "Y_train = data_train[0]  # The first row is the label (Y values)\n",
    "\n",
    "X_train = data_train[1:n]  # The rest are the feature values (X values)\n",
    "X_train = X_train / 255.  # Normalize the pixel values\n",
    "\n",
    "# Get the number of samples (m_train) and features (n) for the training set\n",
    "_, m_train = X_train.shape\n",
    "\n",
    "# Print the number of features and samples in the training set\n",
    "n, m = X_train.shape\n",
    "print(f\"{n} {m}\")\n"
   ]
  },
  {
   "cell_type": "code",
   "execution_count": null,
   "id": "8c060347-657d-4d62-ab4c-c1ed69ab6d27",
   "metadata": {},
   "outputs": [],
   "source": [
    "def initParams():\n",
    "    # Initialize the weight matrix W1 of shape (10, 784) with random values between -0.5 and 0.5\n",
    "    # W1 is the weight matrix for the input layer (784 features) to the first hidden layer (10 neurons)\n",
    "    W1 = np.random.rand(10, 784) - 0.5  \n",
    "    \n",
    "    # Initialize the bias vector B1 of shape (10, 1) with random values between -0.5 and 0.5\n",
    "    # B1 is the bias for the first hidden layer (10 neurons)\n",
    "    B1 = np.random.rand(10, 1) - 0.5 \n",
    "    \n",
    "    # Initialize the weight matrix W2 of shape (10, 10) with random values between -0.5 and 0.5\n",
    "    # W2 is the weight matrix for the first hidden layer (10 neurons) to the second hidden layer (10 neurons)\n",
    "    W2 = np.random.rand(10, 10) - 0.5 \n",
    "    \n",
    "    # Initialize the bias vector B2 of shape (10, 1) with random values between -0.5 and 0.5\n",
    "    # B2 is the bias for the second hidden layer (10 neurons)\n",
    "    B2 = np.random.rand(10, 1) - 0.5 \n",
    "    \n",
    "    # Return the initialized weights and biases\n",
    "    return W1, B1, W2, B2\n"
   ]
  }
 ],
 "metadata": {
  "kernelspec": {
   "display_name": "Python 3 (ipykernel)",
   "language": "python",
   "name": "python3"
  },
  "language_info": {
   "codemirror_mode": {
    "name": "ipython",
    "version": 3
   },
   "file_extension": ".py",
   "mimetype": "text/x-python",
   "name": "python",
   "nbconvert_exporter": "python",
   "pygments_lexer": "ipython3",
   "version": "3.12.4"
  }
 },
 "nbformat": 4,
 "nbformat_minor": 5
}
